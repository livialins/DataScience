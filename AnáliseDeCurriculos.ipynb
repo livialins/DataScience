{
  "nbformat": 4,
  "nbformat_minor": 0,
  "metadata": {
    "colab": {
      "provenance": [],
      "authorship_tag": "ABX9TyM7o3llbPecLLRjCxBwhofu",
      "include_colab_link": true
    },
    "kernelspec": {
      "name": "python3",
      "display_name": "Python 3"
    },
    "language_info": {
      "name": "python"
    }
  },
  "cells": [
    {
      "cell_type": "markdown",
      "metadata": {
        "id": "view-in-github",
        "colab_type": "text"
      },
      "source": [
        "<a href=\"https://colab.research.google.com/github/livialins/DataScience/blob/main/An%C3%A1liseDeCurriculos.ipynb\" target=\"_parent\"><img src=\"https://colab.research.google.com/assets/colab-badge.svg\" alt=\"Open In Colab\"/></a>"
      ]
    },
    {
      "cell_type": "markdown",
      "source": [
        "##Analisador de currículo automatizado para RH\n",
        "\n",
        "<center><img alt=\"Colaboratory logo\" width=\"50%\" src=\"https://cdn-images.resumelab.com/pages/analise_curriculo_rlbr_2.jpg\"></center>\n",
        "\n",
        "\n",
        "O recrutamento é um dos processos mais demorados do mundo corporativo. Com o fluxo de currículos que os departamentos de RH recebem diariamente, é um desafio classificar, categorizar e analisar cada um deles manualmente. Entre no Automated Resume Parser – uma ferramenta que promete tornar a vida do RH significativamente mais fácil, extraindo e processando com eficiência dados de currículos."
      ],
      "metadata": {
        "id": "sUTByEvglQP_"
      }
    },
    {
      "cell_type": "code",
      "execution_count": 1,
      "metadata": {
        "colab": {
          "base_uri": "https://localhost:8080/"
        },
        "id": "4-OH-tj5auvi",
        "outputId": "a408164e-df55-4798-d8cd-9afbc2866b3b"
      },
      "outputs": [
        {
          "output_type": "stream",
          "name": "stdout",
          "text": [
            "Collecting PyPDF2\n",
            "  Downloading pypdf2-3.0.1-py3-none-any.whl (232 kB)\n",
            "\u001b[2K     \u001b[90m━━━━━━━━━━━━━━━━━━━━━━━━━━━━━━━━━━━━━━━\u001b[0m \u001b[32m232.6/232.6 kB\u001b[0m \u001b[31m3.3 MB/s\u001b[0m eta \u001b[36m0:00:00\u001b[0m\n",
            "\u001b[?25hRequirement already satisfied: nltk in /usr/local/lib/python3.10/dist-packages (3.8.1)\n",
            "Requirement already satisfied: click in /usr/local/lib/python3.10/dist-packages (from nltk) (8.1.7)\n",
            "Requirement already satisfied: joblib in /usr/local/lib/python3.10/dist-packages (from nltk) (1.3.2)\n",
            "Requirement already satisfied: regex>=2021.8.3 in /usr/local/lib/python3.10/dist-packages (from nltk) (2023.6.3)\n",
            "Requirement already satisfied: tqdm in /usr/local/lib/python3.10/dist-packages (from nltk) (4.66.1)\n",
            "Installing collected packages: PyPDF2\n",
            "Successfully installed PyPDF2-3.0.1\n"
          ]
        }
      ],
      "source": [
        "pip install PyPDF2 nltk"
      ]
    },
    {
      "cell_type": "code",
      "source": [
        "import PyPDF2\n",
        "import nltk\n",
        "from nltk.tokenize import word_tokenize\n",
        "from nltk.corpus import stopwords\n",
        "\n",
        "# Baixe os recursos de idioma (stopwords) se ainda não estiverem baixados\n",
        "nltk.download('punkt')\n",
        "nltk.download('stopwords')\n",
        "\n",
        "# First, extract text from the PDF\n",
        "def extract_text_from_pdf(pdf_path):\n",
        "    with open(pdf_path, 'rb') as file:\n",
        "        reader = PyPDF2.PdfReader(file)\n",
        "        text = ''\n",
        "        for page_num in range(len(reader.pages)):\n",
        "            text += reader.pages[page_num].extract_text()\n",
        "    return text\n",
        "\n",
        "# Then, process and analyze the extracted text\n",
        "def analyze_text(text):\n",
        "    # Tokenization\n",
        "    tokens = word_tokenize(text)\n",
        "\n",
        "    # Removing punctuation and making everything lowercase\n",
        "    tokens = [word.lower() for word in tokens if word.isalpha()]\n",
        "\n",
        "    # Removing stopwords (common words that don't add significant meaning)\n",
        "    stop_words = set(stopwords.words('english'))\n",
        "    filtered_tokens = [word for word in tokens if word not in stop_words]\n",
        "\n",
        "    return filtered_tokens\n",
        "\n",
        "resume_text = extract_text_from_pdf('/content/Profile.pdf')\n",
        "keywords = analyze_text(resume_text)\n",
        "print(keywords)\n"
      ],
      "metadata": {
        "colab": {
          "base_uri": "https://localhost:8080/"
        },
        "id": "G0-jmhqPaz5P",
        "outputId": "ecc59927-f0d8-4f92-8564-dae59d851004"
      },
      "execution_count": 11,
      "outputs": [
        {
          "output_type": "stream",
          "name": "stderr",
          "text": [
            "[nltk_data] Downloading package punkt to /root/nltk_data...\n",
            "[nltk_data]   Unzipping tokenizers/punkt.zip.\n"
          ]
        },
        {
          "output_type": "stream",
          "name": "stdout",
          "text": [
            "['contato', 'recife', 'mobile', 'linkedin', 'principais', 'competências', 'power', 'bi', 'python', 'amazon', 'web', 'serviceslívia', 'lins', 'data', 'analyst', 'business', 'intelligence', 'software', 'development', 'artificial', 'intelligence', 'recife', 'pernambuco', 'brasil', 'experiência', 'backend', 'node', 'novembro', 'de', 'present', 'ano', 'meses', 'recife', 'pernambuco', 'brasil', 'tascom', 'informática', 'desenvolvedor', 'web', 'maio', 'de', 'agosto', 'de', 'meses', 'recife', 'pernambuco', 'brasil', 'desenvolvimento', 'de', 'software', 'como', 'utilizando', 'java', 'spring', 'boot', 'angular', 'oracle', 'metodologias', 'ágeis', 'versionamento', 'de', 'código', 'e', 'outras', 'tecnologias', 'microcis', 'analista', 'de', 'sistemas', 'agosto', 'de', 'novembro', 'de', 'meses', 'recife', 'pernambuco', 'brasil', 'levantamento', 'de', 'requisitos', 'e', 'especificação', 'de', 'projetos', 'de', 'ti', 'auxiliando', 'desenvolvimento', 'de', 'soluções', 'para', 'processos', 'mapeamento', 'e', 'análise', 'de', 'negócio', 'elaboração', 'da', 'documentação', 'técnica', 'de', 'especificação', 'de', 'requisitos', 'de', 'software', 'com', 'prototipação', 'e', 'status', 'report', 'para', 'gestão', 'de', 'projetos', 'mv', 'analista', 'de', 'documentação', 'de', 'sistemas', 'janeiro', 'de', 'março', 'de', 'ano', 'meses', 'recife', 'e', 'região', 'brasil', 'liberação', 'de', 'release', 'notes', 'sistema', 'elaboração', 'de', 'documentos', 'relacionados', 'ao', 'software', 'como', 'manuais', 'e', 'documentos', 'de', 'especificação', 'funcional', 'atuação', 'também', 'na', 'construção', 'de', 'game', 'para', 'aprendizado', 'software', 'captivate', 'e', 'outras', 'atividades', 'relacionadas', 'ao', 'sistema', 'page', 'formação', 'acadêmica', 'uninter', 'centro', 'universitário', 'internacional', 'analista', 'de', 'sistemas', 'ciencia', 'da', 'computação', 'fatec', 'internacional', 'de', 'curitiba', 'tecnólogo', 'gestao', 'financeira', 'page']\n"
          ]
        },
        {
          "output_type": "stream",
          "name": "stderr",
          "text": [
            "[nltk_data] Downloading package stopwords to /root/nltk_data...\n",
            "[nltk_data]   Unzipping corpora/stopwords.zip.\n"
          ]
        }
      ]
    },
    {
      "cell_type": "markdown",
      "source": [],
      "metadata": {
        "id": "6xJmuhBOlNIc"
      }
    }
  ]
}