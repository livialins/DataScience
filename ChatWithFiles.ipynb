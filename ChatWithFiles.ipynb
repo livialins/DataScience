{
  "nbformat": 4,
  "nbformat_minor": 0,
  "metadata": {
    "colab": {
      "provenance": [],
      "authorship_tag": "ABX9TyMAi4RQ/TdwmfrmcTgtCVLg",
      "include_colab_link": true
    },
    "kernelspec": {
      "name": "python3",
      "display_name": "Python 3"
    },
    "language_info": {
      "name": "python"
    }
  },
  "cells": [
    {
      "cell_type": "markdown",
      "metadata": {
        "id": "view-in-github",
        "colab_type": "text"
      },
      "source": [
        "<a href=\"https://colab.research.google.com/github/livialins/DataScience/blob/main/ChatWithFiles.ipynb\" target=\"_parent\"><img src=\"https://colab.research.google.com/assets/colab-badge.svg\" alt=\"Open In Colab\"/></a>"
      ]
    },
    {
      "cell_type": "markdown",
      "source": [
        "# Chat With Anything - From PDFs Files to Image Documents:"
      ],
      "metadata": {
        "id": "vZyjrZKQciHy"
      }
    },
    {
      "cell_type": "code",
      "source": [
        "import warnings\n",
        "warnings.filterwarnings('ignore')"
      ],
      "metadata": {
        "id": "7jeR6w9bcv63"
      },
      "execution_count": 3,
      "outputs": []
    },
    {
      "cell_type": "markdown",
      "source": [
        "**Install the requirements**"
      ],
      "metadata": {
        "id": "ZQ3KuLMac7Vi"
      }
    },
    {
      "cell_type": "code",
      "source": [
        "%%bash\n",
        "\n",
        "pip -q install langchain faiss-cpu unstructured\n",
        "pip -q install openai tiktoken\n",
        "pip -q install pytesseract pypdf"
      ],
      "metadata": {
        "id": "E5tO781oc0dr",
        "colab": {
          "base_uri": "https://localhost:8080/"
        },
        "outputId": "e2afa59e-78c5-44ec-8c23-1722d4da7cb4"
      },
      "execution_count": 4,
      "outputs": [
        {
          "output_type": "stream",
          "name": "stdout",
          "text": [
            "     ━━━━━━━━━━━━━━━━━━━━━━━━━━━━━━━━━━━━━━━━ 1.5/1.5 MB 14.2 MB/s eta 0:00:00\n",
            "     ━━━━━━━━━━━━━━━━━━━━━━━━━━━━━━━━━━━━━━━━ 17.6/17.6 MB 52.3 MB/s eta 0:00:00\n",
            "     ━━━━━━━━━━━━━━━━━━━━━━━━━━━━━━━━━━━━━━━━ 1.5/1.5 MB 47.9 MB/s eta 0:00:00\n",
            "     ━━━━━━━━━━━━━━━━━━━━━━━━━━━━━━━━━━━━━━━━ 90.0/90.0 kB 9.3 MB/s eta 0:00:00\n",
            "     ━━━━━━━━━━━━━━━━━━━━━━━━━━━━━━━━━━━━━━ 358.9/358.9 kB 28.0 MB/s eta 0:00:00\n",
            "     ━━━━━━━━━━━━━━━━━━━━━━━━━━━━━━━━━━━━━━━━ 49.4/49.4 kB 5.1 MB/s eta 0:00:00\n",
            "     ━━━━━━━━━━━━━━━━━━━━━━━━━━━━━━━━━━━━━━━━ 73.6/73.6 kB 2.0 MB/s eta 0:00:00\n",
            "     ━━━━━━━━━━━━━━━━━━━━━━━━━━━━━━━━━━━━━━━━ 1.7/1.7 MB 15.0 MB/s eta 0:00:00\n",
            "     ━━━━━━━━━━━━━━━━━━━━━━━━━━━━━━━━━━━━━━━ 271.0/271.0 kB 5.8 MB/s eta 0:00:00\n"
          ]
        }
      ]
    },
    {
      "cell_type": "markdown",
      "source": [
        "# Chat & Query your PDF files"
      ],
      "metadata": {
        "id": "0E1rfJkSdRxN"
      }
    },
    {
      "cell_type": "code",
      "source": [
        "#detected document type\n",
        "from filetype import guess\n",
        "\n",
        "def detect_document_type(document_path):\n",
        "\n",
        "    guess_file = guess(document_path)\n",
        "    file_type = \"\"\n",
        "    image_types = ['jpg', 'jpeg', 'png', 'gif']\n",
        "\n",
        "    if(guess_file.extension.lower() == \"pdf\"):\n",
        "        file_type = \"pdf\"\n",
        "\n",
        "    elif(guess_file.extension.lower() in image_types):\n",
        "        file_type = \"image\"\n",
        "\n",
        "    else:\n",
        "        file_type = \"unkown\"\n",
        "\n",
        "    return file_type"
      ],
      "metadata": {
        "id": "zLA4PA9vdUxP"
      },
      "execution_count": 5,
      "outputs": []
    },
    {
      "cell_type": "code",
      "source": [
        "research_paper_path = \"/content/azul de metileno.pdf\"\n",
        "article_information_path = \"/content/iris-machinelearning.png\"\n",
        "\n",
        "print(f\"Research Paper Type: {detect_document_type(research_paper_path)}\")\n",
        "print(f\"Article Information Document Type: {detect_document_type(article_information_path)}\")"
      ],
      "metadata": {
        "colab": {
          "base_uri": "https://localhost:8080/"
        },
        "id": "IFxTGJoTefE9",
        "outputId": "1b9c22d3-5559-49e2-f633-b82b76eb1990"
      },
      "execution_count": 6,
      "outputs": [
        {
          "output_type": "stream",
          "name": "stdout",
          "text": [
            "Research Paper Type: pdf\n",
            "Article Information Document Type: image\n"
          ]
        }
      ]
    },
    {
      "cell_type": "code",
      "source": [
        "from langchain.document_loaders.image import UnstructuredImageLoader\n",
        "from langchain.document_loaders import UnstructuredFileLoader\n",
        "\n",
        "def extract_file_content(file_path):\n",
        "\n",
        "    file_type = detect_document_type(file_path)\n",
        "\n",
        "    if(file_type == \"pdf\"):\n",
        "        loader = UnstructuredFileLoader(file_path)\n",
        "\n",
        "    elif(file_type == \"image\"):\n",
        "        loader = UnstructuredImageLoader(file_path)\n",
        "\n",
        "    documents = loader.load()\n",
        "    documents_content = '\\n'.join(doc.page_content for doc in documents)\n",
        "\n",
        "    return documents_content"
      ],
      "metadata": {
        "id": "qxH54Digfqmx"
      },
      "execution_count": 7,
      "outputs": []
    },
    {
      "cell_type": "code",
      "source": [
        "research_paper_content = extract_file_content(research_paper_path)\n",
        "article_information_content = extract_file_content(article_information_path)"
      ],
      "metadata": {
        "id": "8rlE-vKgDJ5E"
      },
      "execution_count": null,
      "outputs": []
    },
    {
      "cell_type": "code",
      "source": [
        "nb_characters = 400\n",
        "\n",
        "print(f\"First {nb_characters} Characters of the Paper: \\n{research_paper_content[:nb_characters]}...\")\n",
        "print(\"---\"*5)\n",
        "print(f\"First {nb_characters} Characters of Article Information Document :\\n {article_information_content[:nb_characters]}..."
      ],
      "metadata": {
        "id": "dHixrEyOCCBp"
      },
      "execution_count": null,
      "outputs": []
    },
    {
      "cell_type": "markdown",
      "source": [
        "# Chat Implementation\n",
        "**Create Chunks**"
      ],
      "metadata": {
        "id": "96PEZlCiCOIc"
      }
    },
    {
      "cell_type": "code",
      "source": [
        "from langchain.text_splitter import CharacterTextSplitter\n",
        "\n",
        "text_splitter = CharacterTextSplitter(\n",
        "    separator = \"\\n\\n\",\n",
        "    chunk_size = 1000,\n",
        "    chunk_overlap  = 200,\n",
        "    length_function = len,\n",
        ")"
      ],
      "metadata": {
        "id": "IGr05nh0CTmD"
      },
      "execution_count": 16,
      "outputs": []
    },
    {
      "cell_type": "code",
      "source": [
        "research_paper_chunks = text_splitter.split_text(research_paper_content)\n",
        "article_information_chunks = text_splitter.split_text(article_information_content)\n",
        "\n",
        "print(f\"# Chunks in Research Paper: {len(research_paper_chunks)}\")\n",
        "print(f\"# Chunks in Article Document: {len(article_information_chunks)}\")"
      ],
      "metadata": {
        "id": "kdW2AD8iCZNB"
      },
      "execution_count": null,
      "outputs": []
    },
    {
      "cell_type": "markdown",
      "source": [
        "# Create Embeddings"
      ],
      "metadata": {
        "id": "T79udB3TEJrj"
      }
    },
    {
      "cell_type": "code",
      "source": [
        "from langchain.embeddings.openai import OpenAIEmbeddings\n",
        "import os\n",
        "\n",
        "os.environ[\"OPENAI_API_KEY\"] = \"<YOUR KEY>\"\n",
        "\n",
        "embeddings = OpenAIEmbeddings()"
      ],
      "metadata": {
        "id": "0Qay3gtYELAQ"
      },
      "execution_count": 29,
      "outputs": []
    },
    {
      "cell_type": "markdown",
      "source": [
        "# Create Vector Index"
      ],
      "metadata": {
        "id": "wEszBqLUESRH"
      }
    },
    {
      "cell_type": "code",
      "source": [
        "from langchain.vectorstores import FAISS\n",
        "\n",
        "def get_doc_search(text_splitter):\n",
        "\n",
        "    return FAISS.from_texts(text_splitter, embeddings)"
      ],
      "metadata": {
        "id": "8yivIwNgETRy"
      },
      "execution_count": 30,
      "outputs": []
    },
    {
      "cell_type": "code",
      "source": [
        "doc_search_paper = get_doc_search(research_paper_chunks)\n",
        "print(doc_search_paper)"
      ],
      "metadata": {
        "id": "um0idHyzEWm5"
      },
      "execution_count": null,
      "outputs": []
    },
    {
      "cell_type": "markdown",
      "source": [
        "## Start chatting with your document"
      ],
      "metadata": {
        "id": "p7yEmXtwGDE8"
      }
    },
    {
      "cell_type": "code",
      "source": [
        "from langchain.llms import OpenAI\n",
        "from langchain.chains.question_answering import load_qa_chain\n",
        "chain = load_qa_chain(OpenAI(), chain_type = \"map_rerank\",\n",
        "                      return_intermediate_steps=True)\n",
        "\n",
        "def chat_with_file(file_path, query):\n",
        "\n",
        "    file_content = extract_file_content(file_path)\n",
        "    file_splitter = text_splitter.split_text(file_content)\n",
        "\n",
        "    document_search = get_doc_search(file_splitter)\n",
        "    documents = document_search.similarity_search(query)\n",
        "\n",
        "    results = chain({\n",
        "                        \"input_documents\":documents,\n",
        "                        \"question\": query\n",
        "                    },\n",
        "                    return_only_outputs=True)\n",
        "    results = results['intermediate_steps'][0]\n",
        "\n",
        "    return results"
      ],
      "metadata": {
        "id": "JzvbUrMsGV13"
      },
      "execution_count": 32,
      "outputs": []
    },
    {
      "cell_type": "markdown",
      "source": [
        "### Chat with the image file"
      ],
      "metadata": {
        "id": "WfXwKNUeGrkY"
      }
    },
    {
      "cell_type": "code",
      "source": [
        "query = \"What is the document about\"\n",
        "\n",
        "results = chat_with_file(article_information_path, query)\n",
        "\n",
        "answer = results[\"answer\"]\n",
        "confidence_score = results[\"score\"]\n",
        "\n",
        "print(f\"Answer: {answer}\\n\\nConfidence Score: {confidence_score}\")"
      ],
      "metadata": {
        "id": "WvNixh3pGueU"
      },
      "execution_count": null,
      "outputs": []
    },
    {
      "cell_type": "markdown",
      "source": [
        "###Chat with the PDF file"
      ],
      "metadata": {
        "id": "nvZOs6tvHeRg"
      }
    },
    {
      "cell_type": "code",
      "source": [
        "query = \"Why is the self-attention approach used in this document?\"\n",
        "\n",
        "results = chat_with_file(research_paper_path, query)\n",
        "\n",
        "answer = results[\"answer\"]\n",
        "confidence_score = results[\"score\"]\n",
        "\n",
        "print(f\"Answer: {answer}\\n\\nConfidence Score: {confidence_score}\")"
      ],
      "metadata": {
        "id": "E38iNbrbHfow"
      },
      "execution_count": null,
      "outputs": []
    },
    {
      "cell_type": "markdown",
      "source": [
        "**Finish! Congratulations!**"
      ],
      "metadata": {
        "id": "-FvIlICSHk5y"
      }
    }
  ]
}