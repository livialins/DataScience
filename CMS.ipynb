{
  "nbformat": 4,
  "nbformat_minor": 0,
  "metadata": {
    "colab": {
      "provenance": [],
      "authorship_tag": "ABX9TyPiPWvrntSMlXjUcThGv5FZ",
      "include_colab_link": true
    },
    "kernelspec": {
      "name": "python3",
      "display_name": "Python 3"
    },
    "language_info": {
      "name": "python"
    }
  },
  "cells": [
    {
      "cell_type": "markdown",
      "metadata": {
        "id": "view-in-github",
        "colab_type": "text"
      },
      "source": [
        "<a href=\"https://colab.research.google.com/github/livialins/DataScience/blob/main/CMS.ipynb\" target=\"_parent\"><img src=\"https://colab.research.google.com/assets/colab-badge.svg\" alt=\"Open In Colab\"/></a>"
      ]
    },
    {
      "cell_type": "code",
      "source": [
        "pip install Flask Flask-SQLAlchemy"
      ],
      "metadata": {
        "colab": {
          "base_uri": "https://localhost:8080/"
        },
        "id": "90kUQk2_MsZn",
        "outputId": "ad52b301-c9b8-4370-ef55-b03d51673a27"
      },
      "execution_count": 7,
      "outputs": [
        {
          "output_type": "stream",
          "name": "stdout",
          "text": [
            "Requirement already satisfied: Flask in /usr/local/lib/python3.10/dist-packages (2.2.5)\n",
            "Collecting Flask-SQLAlchemy\n",
            "  Downloading flask_sqlalchemy-3.1.1-py3-none-any.whl (25 kB)\n",
            "Requirement already satisfied: Werkzeug>=2.2.2 in /usr/local/lib/python3.10/dist-packages (from Flask) (2.3.7)\n",
            "Requirement already satisfied: Jinja2>=3.0 in /usr/local/lib/python3.10/dist-packages (from Flask) (3.1.2)\n",
            "Requirement already satisfied: itsdangerous>=2.0 in /usr/local/lib/python3.10/dist-packages (from Flask) (2.1.2)\n",
            "Requirement already satisfied: click>=8.0 in /usr/local/lib/python3.10/dist-packages (from Flask) (8.1.7)\n",
            "Requirement already satisfied: sqlalchemy>=2.0.16 in /usr/local/lib/python3.10/dist-packages (from Flask-SQLAlchemy) (2.0.20)\n",
            "Requirement already satisfied: MarkupSafe>=2.0 in /usr/local/lib/python3.10/dist-packages (from Jinja2>=3.0->Flask) (2.1.3)\n",
            "Requirement already satisfied: typing-extensions>=4.2.0 in /usr/local/lib/python3.10/dist-packages (from sqlalchemy>=2.0.16->Flask-SQLAlchemy) (4.5.0)\n",
            "Requirement already satisfied: greenlet!=0.4.17 in /usr/local/lib/python3.10/dist-packages (from sqlalchemy>=2.0.16->Flask-SQLAlchemy) (2.0.2)\n",
            "Installing collected packages: Flask-SQLAlchemy\n",
            "Successfully installed Flask-SQLAlchemy-3.1.1\n"
          ]
        }
      ]
    },
    {
      "cell_type": "code",
      "source": [
        "from flask import Flask, request, render_template_string\n",
        "from flask_sqlalchemy import SQLAlchemy\n",
        "\n",
        "app = Flask(__name__)\n",
        "app.config['SQLALCHEMY_DATABASE_URI'] = 'sqlite:///cms.db'\n",
        "db = SQLAlchemy(app)\n",
        "\n",
        "class Article(db.Model):\n",
        "    id = db.Column(db.Integer, primary_key=True)\n",
        "    title = db.Column(db.String(80))\n",
        "    content = db.Column(db.Text)\n",
        "\n",
        "@app.route('/')\n",
        "def index():\n",
        "    articles = Article.query.all()\n",
        "    return render_template_string('''\n",
        "        {% for article in articles %}\n",
        "            <h2>{{ article.title }}</h2>\n",
        "            <p>{{ article.content }}</p>\n",
        "        {% endfor %}\n",
        "    ''', articles=articles)\n",
        "\n",
        "@app.route('/create', methods=['POST'])\n",
        "def create():\n",
        "    if request.method == 'POST':\n",
        "        title = request.form['title']\n",
        "        content = request.form['content']\n",
        "        article = Article(title=title, content=content)\n",
        "        db.session.add(article)\n",
        "        db.session.commit()\n",
        "    return 'Article added!'\n",
        "\n"
      ],
      "metadata": {
        "id": "oUskQNiuPVAz"
      },
      "execution_count": 9,
      "outputs": []
    },
    {
      "cell_type": "code",
      "source": [
        "if __name__ == '__main__':\n",
        "  with app.app_context():\n",
        "    db.create_all()\n",
        "    app.run(debug=True)"
      ],
      "metadata": {
        "colab": {
          "base_uri": "https://localhost:8080/"
        },
        "id": "ZR8hc-SfPkRx",
        "outputId": "b02f9639-3d88-422b-f9ce-03dea9c36bff"
      },
      "execution_count": null,
      "outputs": [
        {
          "output_type": "stream",
          "name": "stdout",
          "text": [
            " * Serving Flask app '__main__'\n",
            " * Debug mode: on\n"
          ]
        },
        {
          "output_type": "stream",
          "name": "stderr",
          "text": [
            "INFO:werkzeug:\u001b[31m\u001b[1mWARNING: This is a development server. Do not use it in a production deployment. Use a production WSGI server instead.\u001b[0m\n",
            " * Running on http://127.0.0.1:5000\n",
            "INFO:werkzeug:\u001b[33mPress CTRL+C to quit\u001b[0m\n",
            "INFO:werkzeug: * Restarting with stat\n"
          ]
        }
      ]
    },
    {
      "cell_type": "code",
      "source": [
        "import requests\n",
        "\n",
        "# Dados do artigo a ser adicionado\n",
        "data = {\n",
        "    'title': 'Título do Artigo',\n",
        "    'content': 'Conteúdo do Artigo'\n",
        "}\n",
        "\n",
        "# URL da rota '/create'\n",
        "url = 'http://localhost:5000/create' # Substitua pelo endereço correto do seu servidor Flask\n",
        "\n",
        "# Fazendo a solicitação POST\n",
        "response = requests.post(url, data=data)\n",
        "\n",
        "# Imprimindo a resposta\n",
        "print(response.status_code)\n",
        "print(response.text)  # Isso exibirá o conteúdo da resposta, por exemplo, 'Artigo adicionado!'"
      ],
      "metadata": {
        "id": "uESo44U4U8mT"
      },
      "execution_count": null,
      "outputs": []
    }
  ]
}